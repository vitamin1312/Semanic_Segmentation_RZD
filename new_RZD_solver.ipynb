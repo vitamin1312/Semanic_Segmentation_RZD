{
 "cells": [
  {
   "cell_type": "code",
   "execution_count": 1,
   "id": "6feef499",
   "metadata": {},
   "outputs": [],
   "source": [
    "import cv2\n",
    "from matplotlib import pyplot as plt\n",
    "import numpy as np\n",
    "from glob import iglob\n",
    "import os\n",
    "import tensorflow as tf\n",
    "from tqdm import tqdm "
   ]
  },
  {
   "cell_type": "code",
   "execution_count": 2,
   "id": "c49e0efb",
   "metadata": {},
   "outputs": [],
   "source": [
    "def create_mask(pred_mask):\n",
    "    pred_mask = np.argmax(pred_mask, axis=-1)\n",
    "    return pred_mask"
   ]
  },
  {
   "cell_type": "code",
   "execution_count": 3,
   "id": "3210e5d8",
   "metadata": {},
   "outputs": [
    {
     "name": "stdout",
     "output_type": "stream",
     "text": [
      "There are 1000 pictures\n"
     ]
    }
   ],
   "source": [
    "path = 'path_to_test_data'\n",
    "solve_dir = 'path_to_dir_for_solving'\n",
    "img_dir = list(iglob(os.path.join(path, 'test_dataset_test/*')))\n",
    "IMAGE_SIZE = 416\n",
    "count = len(img_dir)\n",
    "\n",
    "print(f'There are {count} pictures')"
   ]
  },
  {
   "cell_type": "code",
   "execution_count": 4,
   "id": "74c5d611",
   "metadata": {},
   "outputs": [
    {
     "name": "stdout",
     "output_type": "stream",
     "text": [
      "WARNING:tensorflow:Unable to restore custom metric. Please ensure that the layer implements `get_config` and `from_config` when saving. In addition, please use the `custom_objects` arg when calling `load_model()`.\n"
     ]
    }
   ],
   "source": [
    "model = tf.keras.models.load_model(\n",
    "    'model_416_Unet',\n",
    "    compile=False)"
   ]
  },
  {
   "cell_type": "code",
   "execution_count": 5,
   "id": "ed039318",
   "metadata": {},
   "outputs": [
    {
     "name": "stderr",
     "output_type": "stream",
     "text": [
      "100%|██████████████████████████████████████████████████████████████████████████████| 1000/1000 [06:43<00:00,  2.48it/s]\n"
     ]
    }
   ],
   "source": [
    "for i in tqdm(range(count)):\n",
    "    solve_path = img_dir[i].split('\\\\')[-1]\n",
    "    img = cv2.imread(img_dir[i], cv2.IMREAD_COLOR)\n",
    "    img_shape = img.shape\n",
    "\n",
    "    img = cv2.resize(img, (IMAGE_SIZE, IMAGE_SIZE))\n",
    "    img = np.expand_dims(img, axis=0)\n",
    "    prediction = model.predict(img/255.)[0]\n",
    "\n",
    "    prediction = create_mask(prediction)\n",
    "\n",
    "    prediction = np.where(prediction != 1, prediction, 6)\n",
    "    prediction = np.where(prediction != 2, prediction, 7)\n",
    "    prediction = np.where(prediction != 3, prediction, 10)\n",
    "    prediction = cv2.resize(prediction, img_shape[1::-1], interpolation=cv2.INTER_LINEAR_EXACT)\n",
    "    cv2.imwrite(os.path.join(solve_dir, solve_path), prediction)"
   ]
  }
 ],
 "metadata": {
  "kernelspec": {
   "display_name": "Python 3 (ipykernel)",
   "language": "python",
   "name": "python3"
  },
  "language_info": {
   "codemirror_mode": {
    "name": "ipython",
    "version": 3
   },
   "file_extension": ".py",
   "mimetype": "text/x-python",
   "name": "python",
   "nbconvert_exporter": "python",
   "pygments_lexer": "ipython3",
   "version": "3.10.2"
  }
 },
 "nbformat": 4,
 "nbformat_minor": 5
}
